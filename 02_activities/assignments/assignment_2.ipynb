{
 "cells": [
  {
   "cell_type": "markdown",
   "metadata": {},
   "source": [
    "# Assignment 2"
   ]
  },
  {
   "cell_type": "markdown",
   "metadata": {},
   "source": [
    "In this assigment, we will work with the *Adult* data set. Please download the data from the [UCI Machine Learning Repository](https://archive.ics.uci.edu/dataset/2/adult). Extract the data files into the subdirectory: `../05_src/data/adult/` (relative to `./05_src/`)."
   ]
  },
  {
   "cell_type": "markdown",
   "metadata": {},
   "source": [
    "# Load the data\n",
    "\n",
    "Assuming that the files `adult.data` and `adult.test` are in `../05_src/data/adult/`, then you can use the code below to load them."
   ]
  },
  {
   "cell_type": "code",
   "execution_count": 19,
   "metadata": {},
   "outputs": [
    {
     "name": "stdout",
     "output_type": "stream",
     "text": [
      "Data directory: c:\\Users\\User\\Desktop\\scaling_to_production\\05_src\\data\\adult\n",
      "Data file path: c:\\Users\\User\\Desktop\\scaling_to_production\\05_src\\data\\adult\\adult.data\n",
      "Test file path: c:\\Users\\User\\Desktop\\scaling_to_production\\05_src\\data\\adult\\adult.test\n",
      "Data loaded successfully!\n"
     ]
    }
   ],
   "source": [
    "import os\n",
    "import pandas as pd\n",
    "\n",
    "\n",
    "data_dir = os.path.abspath('../../05_src/data/adult/')\n",
    "data_file = os.path.join(data_dir, 'adult.data')\n",
    "test_file = os.path.join(data_dir, 'adult.test')\n",
    "\n",
    "\n",
    "print(\"Data directory:\", data_dir)\n",
    "print(\"Data file path:\", data_file)\n",
    "print(\"Test file path:\", test_file)\n",
    "\n",
    "\n",
    "\n",
    "\n",
    "columns = [\n",
    "    'age', 'workclass', 'fnlwgt', 'education', 'education-num', 'marital-status',\n",
    "    'occupation', 'relationship', 'race', 'sex', 'capital-gain', 'capital-loss', 'hours-per-week',\n",
    "    'native-country', 'income'\n",
    "]\n",
    "\n",
    "\n",
    "adult_dt = (pd.read_csv(data_file, header=None, names=columns)\n",
    "              .assign(income=lambda x: (x.income.str.strip() == '>50K')*1))\n",
    "\n",
    "print(\"Data loaded successfully!\")\n",
    "\n"
   ]
  },
  {
   "cell_type": "markdown",
   "metadata": {},
   "source": [
    "# Get X and Y\n",
    "\n",
    "Create the features data frame and target data:\n",
    "\n",
    "+ Create a dataframe `X` that holds the features (all columns that are not `income`).\n",
    "+ Create a dataframe `Y` that holds the target data (`income`).\n",
    "+ From `X` and `Y`, obtain the training and testing data sets:\n",
    "\n",
    "    - Use a train-test split of 70-30%. \n",
    "    - Set the random state of the splitting function to 42."
   ]
  },
  {
   "cell_type": "code",
   "execution_count": 36,
   "metadata": {},
   "outputs": [],
   "source": [
    "\n",
    "X = adult_dt.drop('income', axis=1)\n",
    "\n",
    "\n",
    "Y = adult_dt['income']\n"
   ]
  },
  {
   "cell_type": "markdown",
   "metadata": {},
   "source": [
    "## Random States\n",
    "\n",
    "Please comment: \n",
    "\n",
    "+ What is the [random state](https://scikit-learn.org/stable/glossary.html#term-random_state) of the [splitting function](https://scikit-learn.org/stable/modules/generated/sklearn.model_selection.train_test_split.html)? \n",
    "+ Why is it [useful](https://en.wikipedia.org/wiki/Reproducibility)?"
   ]
  },
  {
   "cell_type": "markdown",
   "metadata": {},
   "source": [
    "The data split's reproducibility is guaranteed by its random state. Consistent outcomes are possible by setting it to a fixed number (such as 42), which guarantees that the same train-test split is generated each time. "
   ]
  },
  {
   "cell_type": "markdown",
   "metadata": {},
   "source": [
    "*(Comment here.)*"
   ]
  },
  {
   "cell_type": "markdown",
   "metadata": {},
   "source": [
    "# Preprocessing\n",
    "\n",
    "Create a [Column Transformer](https://scikit-learn.org/stable/modules/generated/sklearn.compose.ColumnTransformer.html) that treats the features as follows:\n",
    "\n",
    "- Numerical variables\n",
    "\n",
    "    * Apply [KNN-based imputation for completing missing values](https://scikit-learn.org/stable/modules/generated/sklearn.impute.KNNImputer.html):\n",
    "        \n",
    "        + Consider the 7 nearest neighbours.\n",
    "        + Weight each neighbour by the inverse of its distance, causing closer neigbours to have more influence than more distant ones.\n",
    "    * [Scale features using statistics that are robust to outliers](https://scikit-learn.org/stable/modules/generated/sklearn.preprocessing.RobustScaler.html#sklearn.preprocessing.RobustScaler).\n",
    "\n",
    "- Categorical variables: \n",
    "    \n",
    "    * Apply a [simple imputation strategy](https://scikit-learn.org/stable/modules/generated/sklearn.impute.SimpleImputer.html#sklearn.impute.SimpleImputer):\n",
    "\n",
    "        + Use the most frequent value to complete missing values, also called the *mode*.\n",
    "\n",
    "    * Apply [one-hot encoding](https://scikit-learn.org/stable/modules/generated/sklearn.preprocessing.OneHotEncoder.html):\n",
    "        \n",
    "        + Handle unknown labels if they exist.\n",
    "        + Drop one column for binary variables.\n",
    "    \n",
    "    \n",
    "The column transformer should look like this:\n",
    "\n",
    "![](./images/assignment_2__column_transformer.png)"
   ]
  },
  {
   "cell_type": "code",
   "execution_count": 37,
   "metadata": {},
   "outputs": [],
   "source": [
    "from sklearn.compose import ColumnTransformer\n",
    "from sklearn.pipeline import Pipeline\n",
    "from sklearn.impute import KNNImputer, SimpleImputer\n",
    "from sklearn.preprocessing import RobustScaler, OneHotEncoder\n",
    "from sklearn.neighbors import KNeighborsClassifier\n",
    "\n",
    "\n",
    "numeric_transformer = Pipeline(steps=[\n",
    "    ('imputer', KNNImputer(n_neighbors=7, weights='distance')),\n",
    "    ('scaler', RobustScaler())\n",
    "])\n",
    "\n",
    "\n",
    "categorical_transformer = Pipeline(steps=[\n",
    "    ('imputer', SimpleImputer(strategy='most_frequent')),\n",
    "    ('onehot', OneHotEncoder(handle_unknown='ignore', drop='first'))\n",
    "])\n",
    "\n",
    "\n",
    "numeric_features = X.select_dtypes(include=['int64', 'float64']).columns\n",
    "categorical_features = X.select_dtypes(include=['object']).columns\n",
    "\n",
    "\n",
    "preprocessor = ColumnTransformer(\n",
    "    transformers=[\n",
    "        ('num', numeric_transformer, numeric_features),\n",
    "        ('cat', categorical_transformer, categorical_features)\n",
    "    ])\n",
    "\n",
    "\n",
    "X_train_preprocessed = preprocessor.fit_transform(X_train)\n",
    "X_test_preprocessed = preprocessor.transform(X_test)\n"
   ]
  },
  {
   "cell_type": "markdown",
   "metadata": {},
   "source": [
    "## Model Pipeline\n",
    "\n",
    "Create a [model pipeline](https://scikit-learn.org/stable/modules/generated/sklearn.pipeline.Pipeline.html): \n",
    "\n",
    "+ Add a step labelled `preprocessing` and assign the Column Transformer from the previous section.\n",
    "+ Add a step labelled `classifier` and assign a [`RandomForestClassifier()`](https://scikit-learn.org/stable/modules/generated/sklearn.ensemble.RandomForestClassifier.html) to it.\n",
    "\n",
    "The pipeline looks like this:\n",
    "\n",
    "![](./images/assignment_2__pipeline.png)"
   ]
  },
  {
   "cell_type": "code",
   "execution_count": 38,
   "metadata": {},
   "outputs": [
    {
     "name": "stdout",
     "output_type": "stream",
     "text": [
      "Accuracy: 0.86\n"
     ]
    }
   ],
   "source": [
    "from sklearn.ensemble import RandomForestClassifier\n",
    "from sklearn.pipeline import Pipeline\n",
    "\n",
    "\n",
    "model_pipeline = Pipeline(steps=[\n",
    "    ('preprocessing', preprocessor),  \n",
    "    ('classifier', RandomForestClassifier())\n",
    "])\n",
    "\n",
    "\n",
    "model_pipeline.fit(X_train, Y_train)\n",
    "\n",
    "\n",
    "Y_pred = model_pipeline.predict(X_test)\n",
    "\n",
    "\n",
    "accuracy = accuracy_score(Y_test, Y_pred)\n",
    "print(f\"Accuracy: {accuracy:.2f}\")\n",
    "\n"
   ]
  },
  {
   "cell_type": "markdown",
   "metadata": {},
   "source": [
    "# Cross-Validation\n",
    "\n",
    "Evaluate the model pipeline using [`cross_validate()`](https://scikit-learn.org/stable/modules/generated/sklearn.model_selection.cross_validate.html):\n",
    "\n",
    "+ Measure the following [preformance metrics](https://scikit-learn.org/stable/modules/model_evaluation.html#common-cases-predefined-values): negative log loss, ROC AUC, accuracy, and balanced accuracy.\n",
    "+ Report the training and validation results. \n",
    "+ Use five folds.\n"
   ]
  },
  {
   "cell_type": "code",
   "execution_count": 39,
   "metadata": {},
   "outputs": [
    {
     "name": "stderr",
     "output_type": "stream",
     "text": [
      "c:\\Users\\User\\miniconda3\\envs\\dsi_participant\\lib\\site-packages\\sklearn\\metrics\\_scorer.py:610: FutureWarning: The `needs_threshold` and `needs_proba` parameter are deprecated in version 1.4 and will be removed in 1.6. You can either let `response_method` be `None` or set it to `predict` to preserve the same behaviour.\n",
      "  warnings.warn(\n",
      "c:\\Users\\User\\miniconda3\\envs\\dsi_participant\\lib\\site-packages\\sklearn\\preprocessing\\_encoders.py:242: UserWarning: Found unknown categories in columns [7] during transform. These unknown categories will be encoded as all zeros\n",
      "  warnings.warn(\n",
      "c:\\Users\\User\\miniconda3\\envs\\dsi_participant\\lib\\site-packages\\sklearn\\preprocessing\\_encoders.py:242: UserWarning: Found unknown categories in columns [7] during transform. These unknown categories will be encoded as all zeros\n",
      "  warnings.warn(\n"
     ]
    },
    {
     "name": "stdout",
     "output_type": "stream",
     "text": [
      "Training Scores:\n",
      "Accuracy: 1.000\n",
      "Balanced Accuracy: 1.000\n",
      "ROC AUC: 1.000\n",
      "Negative Log Loss: -0.080\n",
      "\n",
      "Validation Scores:\n",
      "Accuracy: 0.854\n",
      "Balanced Accuracy: 0.775\n",
      "ROC AUC: 0.775\n",
      "Negative Log Loss: -0.369\n"
     ]
    }
   ],
   "source": [
    "from sklearn.model_selection import cross_validate\n",
    "from sklearn.metrics import make_scorer, accuracy_score, balanced_accuracy_score, roc_auc_score, log_loss\n",
    "\n",
    "scoring = {\n",
    "    'accuracy': make_scorer(accuracy_score),\n",
    "    'balanced_accuracy': make_scorer(balanced_accuracy_score),\n",
    "    'roc_auc': make_scorer(roc_auc_score),\n",
    "    'neg_log_loss': make_scorer(log_loss, greater_is_better=False, needs_proba=True)\n",
    "}\n",
    "\n",
    "\n",
    "cv_results = cross_validate(model_pipeline, X, Y, cv=5, scoring=scoring, return_train_score=True)\n",
    "\n",
    "\n",
    "print(\"Training Scores:\")\n",
    "print(f\"Accuracy: {cv_results['train_accuracy'].mean():.3f}\")\n",
    "print(f\"Balanced Accuracy: {cv_results['train_balanced_accuracy'].mean():.3f}\")\n",
    "print(f\"ROC AUC: {cv_results['train_roc_auc'].mean():.3f}\")\n",
    "print(f\"Negative Log Loss: {cv_results['train_neg_log_loss'].mean():.3f}\")\n",
    "\n",
    "print(\"\\nValidation Scores:\")\n",
    "print(f\"Accuracy: {cv_results['test_accuracy'].mean():.3f}\")\n",
    "print(f\"Balanced Accuracy: {cv_results['test_balanced_accuracy'].mean():.3f}\")\n",
    "print(f\"ROC AUC: {cv_results['test_roc_auc'].mean():.3f}\")\n",
    "print(f\"Negative Log Loss: {cv_results['test_neg_log_loss'].mean():.3f}\")\n"
   ]
  },
  {
   "cell_type": "markdown",
   "metadata": {},
   "source": [
    "Display the fold-level results as a pandas data frame and sorted by negative log loss of the test (validation) set."
   ]
  },
  {
   "cell_type": "code",
   "execution_count": 40,
   "metadata": {},
   "outputs": [
    {
     "name": "stdout",
     "output_type": "stream",
     "text": [
      "   Fold  Train Accuracy  Train Balanced Accuracy  Train ROC AUC  \\\n",
      "3     4        0.999962                 0.999920       0.999920   \n",
      "1     2        0.999962                 0.999920       0.999920   \n",
      "4     5        0.999885                 0.999761       0.999761   \n",
      "0     1        0.999962                 0.999920       0.999920   \n",
      "2     3        0.999885                 0.999761       0.999761   \n",
      "\n",
      "   Train Neg Log Loss  Test Accuracy  Test Balanced Accuracy  Test ROC AUC  \\\n",
      "3           -0.080735       0.861179                0.779453      0.779453   \n",
      "1           -0.079779       0.851044                0.769730      0.769730   \n",
      "4           -0.080963       0.857494                0.779639      0.779639   \n",
      "0           -0.080235       0.851067                0.766373      0.766373   \n",
      "2           -0.080615       0.851351                0.777336      0.777336   \n",
      "\n",
      "   Test Neg Log Loss  \n",
      "3          -0.385235  \n",
      "1          -0.384355  \n",
      "4          -0.360361  \n",
      "0          -0.358507  \n",
      "2          -0.354558  \n"
     ]
    }
   ],
   "source": [
    "import pandas as pd\n",
    "\n",
    "\n",
    "results_dict = {\n",
    "    'Fold': range(1, 6),\n",
    "    'Train Accuracy': cv_results['train_accuracy'],\n",
    "    'Train Balanced Accuracy': cv_results['train_balanced_accuracy'],\n",
    "    'Train ROC AUC': cv_results['train_roc_auc'],\n",
    "    'Train Neg Log Loss': cv_results['train_neg_log_loss'],\n",
    "    'Test Accuracy': cv_results['test_accuracy'],\n",
    "    'Test Balanced Accuracy': cv_results['test_balanced_accuracy'],\n",
    "    'Test ROC AUC': cv_results['test_roc_auc'],\n",
    "    'Test Neg Log Loss': cv_results['test_neg_log_loss']\n",
    "}\n",
    "\n",
    "results_df = pd.DataFrame(results_dict)\n",
    "\n",
    "\n",
    "sorted_results_df = results_df.sort_values(by='Test Neg Log Loss', ascending=True)\n",
    "\n",
    "\n",
    "print(sorted_results_df)\n"
   ]
  },
  {
   "cell_type": "markdown",
   "metadata": {},
   "source": [
    "Calculate the mean of each metric. "
   ]
  },
  {
   "cell_type": "code",
   "execution_count": 41,
   "metadata": {},
   "outputs": [
    {
     "name": "stdout",
     "output_type": "stream",
     "text": [
      "Mean Metrics:\n",
      "Fold                       3.000000\n",
      "Train Accuracy             0.999931\n",
      "Train Balanced Accuracy    0.999857\n",
      "Train ROC AUC              0.999857\n",
      "Train Neg Log Loss        -0.080465\n",
      "Test Accuracy              0.854427\n",
      "Test Balanced Accuracy     0.774506\n",
      "Test ROC AUC               0.774506\n",
      "Test Neg Log Loss         -0.368603\n",
      "dtype: float64\n"
     ]
    }
   ],
   "source": [
    "\n",
    "mean_metrics = sorted_results_df.mean()\n",
    "\n",
    "\n",
    "print(\"Mean Metrics:\")\n",
    "print(mean_metrics)"
   ]
  },
  {
   "cell_type": "markdown",
   "metadata": {},
   "source": [
    "Calculate the same performance metrics (negative log loss, ROC AUC, accuracy, and balanced accuracy) using the testing data `X_test` and `Y_test`. Display results as a dictionary.\n",
    "\n",
    "*Tip*: both, `roc_auc()` and `neg_log_loss()` will require prediction scores from `pipe.predict_proba()`. However, for `roc_auc()` you should only pass the last column `Y_pred_proba[:, 1]`. Use `Y_pred_proba` with `neg_log_loss()`."
   ]
  },
  {
   "cell_type": "code",
   "execution_count": 42,
   "metadata": {},
   "outputs": [
    {
     "name": "stdout",
     "output_type": "stream",
     "text": [
      "{'Accuracy': 0.8560753403623708, 'Balanced Accuracy': 0.7757667874142, 'ROC AUC': 0.9015322995304005, 'Negative Log Loss': 0.3635128915581467}\n"
     ]
    }
   ],
   "source": [
    "from sklearn.metrics import accuracy_score, balanced_accuracy_score, roc_auc_score, log_loss\n",
    "\n",
    "\n",
    "Y_pred_proba = model_pipeline.predict_proba(X_test)\n",
    "\n",
    "\n",
    "Y_pred_proba_pos = Y_pred_proba[:, 1]\n",
    "\n",
    "\n",
    "accuracy = accuracy_score(Y_test, Y_pred)\n",
    "balanced_accuracy = balanced_accuracy_score(Y_test, Y_pred)\n",
    "roc_auc = roc_auc_score(Y_test, Y_pred_proba_pos)\n",
    "neg_log_loss = log_loss(Y_test, Y_pred_proba)\n",
    "\n",
    "\n",
    "metrics_results = {\n",
    "    'Accuracy': accuracy,\n",
    "    'Balanced Accuracy': balanced_accuracy,\n",
    "    'ROC AUC': roc_auc,\n",
    "    'Negative Log Loss': neg_log_loss\n",
    "}\n",
    "\n",
    "\n",
    "print(metrics_results)\n",
    "\n"
   ]
  },
  {
   "cell_type": "markdown",
   "metadata": {},
   "source": [
    "# Target Recoding\n",
    "\n",
    "In the first code chunk of this document, we loaded the data and immediately recoded the target variable `income`. Why is this [convenient](https://scikit-learn.org/stable/modules/model_evaluation.html#binary-case)?\n",
    "\n",
    "The specific line was:\n",
    "\n",
    "```\n",
    "adult_dt = (pd.read_csv('../05_src/data/adult/adult.data', header = None, names = columns)\n",
    "              .assign(income = lambda x: (x.income.str.strip() == '>50K')*1))\n",
    "```"
   ]
  },
  {
   "cell_type": "markdown",
   "metadata": {},
   "source": [
    "Recoding the target variable income immediately after loading the data streamlines the preparation process, enhances code clarity and reduces potential errors."
   ]
  },
  {
   "cell_type": "markdown",
   "metadata": {},
   "source": [
    "## Criteria\n",
    "\n",
    "|Criteria|Complete|Incomplete|\n",
    "|---------------------|----|----|\n",
    "|Evaluation of model pipeline |Model pipeline was evaluated correctly.|Model pipeline was not evaluated correctly.|\n",
    "|Explanation of answer|Answer was concise and explained the learner's reasoning in depth.|Answer was not concise and did not explained the learner's reasoning in depth.|"
   ]
  },
  {
   "cell_type": "markdown",
   "metadata": {},
   "source": [
    "## Submission Information\n",
    "\n",
    "🚨 **Please review our [Assignment Submission Guide](https://github.com/UofT-DSI/onboarding/blob/main/onboarding_documents/submissions.md)** 🚨 for detailed instructions on how to format, branch, and submit your work. Following these guidelines is crucial for your submissions to be evaluated correctly.\n",
    "\n",
    "### Submission Parameters:\n",
    "* Submission Due Date: `HH:MM AM/PM - DD/MM/YYYY`\n",
    "* The branch name for your repo should be: `assignment-2`\n",
    "* What to submit for this assignment:\n",
    "    * This Jupyter Notebook (assignment_2.ipynb) should be populated and should be the only change in your pull request.\n",
    "* What the pull request link should look like for this assignment: `https://github.com/<your_github_username>/production/pull/<pr_id>`\n",
    "    * Open a private window in your browser. Copy and paste the link to your pull request into the address bar. Make sure you can see your pull request properly. This helps the technical facilitator and learning support staff review your submission easily.\n",
    "\n",
    "Checklist:\n",
    "- [ ] Created a branch with the correct naming convention.\n",
    "- [ ] Ensured that the repository is public.\n",
    "- [ ] Reviewed the PR description guidelines and adhered to them.\n",
    "- [ ] Verify that the link is accessible in a private browser window.\n",
    "\n",
    "If you encounter any difficulties or have questions, please don't hesitate to reach out to our team via our Slack at `#cohort-3-help`. Our Technical Facilitators and Learning Support staff are here to help you navigate any challenges."
   ]
  },
  {
   "cell_type": "markdown",
   "metadata": {},
   "source": [
    "# Reference\n",
    "\n",
    "Becker,Barry and Kohavi,Ronny. (1996). Adult. UCI Machine Learning Repository. https://doi.org/10.24432/C5XW20."
   ]
  }
 ],
 "metadata": {
  "kernelspec": {
   "display_name": "env",
   "language": "python",
   "name": "python3"
  },
  "language_info": {
   "codemirror_mode": {
    "name": "ipython",
    "version": 3
   },
   "file_extension": ".py",
   "mimetype": "text/x-python",
   "name": "python",
   "nbconvert_exporter": "python",
   "pygments_lexer": "ipython3",
   "version": "3.9.19"
  }
 },
 "nbformat": 4,
 "nbformat_minor": 2
}
